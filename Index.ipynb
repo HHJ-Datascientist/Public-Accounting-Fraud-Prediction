{
 "cells": [
  {
   "cell_type": "code",
   "execution_count": 169,
   "metadata": {},
   "outputs": [],
   "source": [
    "import pandas as pd\n",
    "import numpy as np\n",
    "import matplotlib.pyplot as plt\n",
    "%matplotlib inline\n",
    "from matplotlib.pylab import rcParams\n",
    "rcParams['figure.figsize'] = 12, 4\n",
    "import seaborn as sns\n",
    "from scipy import stats\n",
    "\n",
    "from imblearn.under_sampling import RandomUnderSampler\n",
    "from imblearn.ensemble import RUSBoostClassifier\n",
    "\n",
    "from sklearn.model_selection import StratifiedKFold, train_test_split\n",
    "from sklearn.metrics import accuracy_score, precision_score, recall_score, f1_score, confusion_matrix, classification_report, roc_auc_score\n",
    "\n",
    "from xgboost.sklearn import XGBClassifier\n",
    "import xgboost as xgb"
   ]
  },
  {
   "cell_type": "code",
   "execution_count": 170,
   "metadata": {},
   "outputs": [],
   "source": [
    "df_orig = pd.read_csv('uscecchini28.csv')\n",
    "df = df_orig.copy()"
   ]
  },
  {
   "cell_type": "code",
   "execution_count": 171,
   "metadata": {},
   "outputs": [
    {
     "data": {
      "text/html": [
       "<div>\n",
       "<style scoped>\n",
       "    .dataframe tbody tr th:only-of-type {\n",
       "        vertical-align: middle;\n",
       "    }\n",
       "\n",
       "    .dataframe tbody tr th {\n",
       "        vertical-align: top;\n",
       "    }\n",
       "\n",
       "    .dataframe thead th {\n",
       "        text-align: right;\n",
       "    }\n",
       "</style>\n",
       "<table border=\"1\" class=\"dataframe\">\n",
       "  <thead>\n",
       "    <tr style=\"text-align: right;\">\n",
       "      <th></th>\n",
       "      <th>fyear</th>\n",
       "      <th>gvkey</th>\n",
       "      <th>sich</th>\n",
       "      <th>insbnk</th>\n",
       "      <th>understatement</th>\n",
       "      <th>option</th>\n",
       "      <th>p_aaer</th>\n",
       "      <th>new_p_aaer</th>\n",
       "      <th>misstate</th>\n",
       "      <th>act</th>\n",
       "      <th>...</th>\n",
       "      <th>soft_assets</th>\n",
       "      <th>ch_cs</th>\n",
       "      <th>ch_cm</th>\n",
       "      <th>ch_roa</th>\n",
       "      <th>issue</th>\n",
       "      <th>bm</th>\n",
       "      <th>dpi</th>\n",
       "      <th>reoa</th>\n",
       "      <th>EBIT</th>\n",
       "      <th>ch_fcf</th>\n",
       "    </tr>\n",
       "  </thead>\n",
       "  <tbody>\n",
       "    <tr>\n",
       "      <td>146044</td>\n",
       "      <td>2014</td>\n",
       "      <td>317264</td>\n",
       "      <td>4412.0</td>\n",
       "      <td>0</td>\n",
       "      <td>0</td>\n",
       "      <td>0</td>\n",
       "      <td>NaN</td>\n",
       "      <td>NaN</td>\n",
       "      <td>0</td>\n",
       "      <td>233.211</td>\n",
       "      <td>...</td>\n",
       "      <td>0.068841</td>\n",
       "      <td>1.684618</td>\n",
       "      <td>-0.094348</td>\n",
       "      <td>0.020573</td>\n",
       "      <td>1</td>\n",
       "      <td>1.154308</td>\n",
       "      <td>0.745399</td>\n",
       "      <td>0.025562</td>\n",
       "      <td>0.026433</td>\n",
       "      <td>-0.240183</td>\n",
       "    </tr>\n",
       "  </tbody>\n",
       "</table>\n",
       "<p>1 rows × 51 columns</p>\n",
       "</div>"
      ],
      "text/plain": [
       "        fyear   gvkey    sich  insbnk  understatement  option  p_aaer  \\\n",
       "146044   2014  317264  4412.0       0               0       0     NaN   \n",
       "\n",
       "        new_p_aaer  misstate      act  ...  soft_assets     ch_cs     ch_cm  \\\n",
       "146044         NaN         0  233.211  ...     0.068841  1.684618 -0.094348   \n",
       "\n",
       "          ch_roa  issue        bm       dpi      reoa      EBIT    ch_fcf  \n",
       "146044  0.020573      1  1.154308  0.745399  0.025562  0.026433 -0.240183  \n",
       "\n",
       "[1 rows x 51 columns]"
      ]
     },
     "execution_count": 171,
     "metadata": {},
     "output_type": "execute_result"
    }
   ],
   "source": [
    "df.tail(1)"
   ]
  },
  {
   "cell_type": "code",
   "execution_count": 299,
   "metadata": {},
   "outputs": [],
   "source": [
    "years = list(df.fyear.unique())\n",
    "fraud_per_year = []"
   ]
  },
  {
   "cell_type": "code",
   "execution_count": 300,
   "metadata": {},
   "outputs": [],
   "source": [
    "for year in years:\n",
    "    fraud_per_year.append((df[df['fyear'] == year].groupby('gvkey').agg({'misstate':'sum'}).sum()/len(df[df['fyear'] == year].groupby('gvkey').agg({'misstate':'sum'}))*100))"
   ]
  },
  {
   "cell_type": "code",
   "execution_count": 301,
   "metadata": {},
   "outputs": [
    {
     "data": {
      "text/plain": [
       "0.6419889297735921"
      ]
     },
     "execution_count": 301,
     "metadata": {},
     "output_type": "execute_result"
    }
   ],
   "source": [
    "np.mean(fraud_per_year)"
   ]
  },
  {
   "cell_type": "code",
   "execution_count": 303,
   "metadata": {},
   "outputs": [
    {
     "data": {
      "image/png": "[encoded data removed]",
      "text/plain": [
       "<Figure size 864x432 with 1 Axes>"
      ]
     },
     "metadata": {
      "needs_background": "light"
     },
     "output_type": "display_data"
    }
   ],
   "source": [
    "plt.figure(figsize=(12,6))\n",
    "plt.plot(years, fraud_per_year)\n",
    "plt.xlabel('Year', fontsize=18)\n",
    "plt.ylabel('% of Firms Caught Misstating', fontsize=18)\n",
    "plt.title('% of Firms Caught Misstating Financials', fontsize=20)\n",
    "plt.axhline(y=np.mean(fraud_per_year), color='teal')\n",
    "plt.show()"
   ]
  },
  {
   "cell_type": "markdown",
   "metadata": {},
   "source": [
    "## Exploring Cases of Serial Fraud"
   ]
  },
  {
   "cell_type": "code",
   "execution_count": 173,
   "metadata": {},
   "outputs": [
    {
     "data": {
      "text/html": [
       "<div>\n",
       "<style scoped>\n",
       "    .dataframe tbody tr th:only-of-type {\n",
       "        vertical-align: middle;\n",
       "    }\n",
       "\n",
       "    .dataframe tbody tr th {\n",
       "        vertical-align: top;\n",
       "    }\n",
       "\n",
       "    .dataframe thead th {\n",
       "        text-align: right;\n",
       "    }\n",
       "</style>\n",
       "<table border=\"1\" class=\"dataframe\">\n",
       "  <thead>\n",
       "    <tr style=\"text-align: right;\">\n",
       "      <th></th>\n",
       "      <th>fyear</th>\n",
       "      <th>gvkey</th>\n",
       "      <th>sich</th>\n",
       "      <th>insbnk</th>\n",
       "      <th>understatement</th>\n",
       "      <th>option</th>\n",
       "      <th>p_aaer</th>\n",
       "      <th>new_p_aaer</th>\n",
       "      <th>misstate</th>\n",
       "      <th>act</th>\n",
       "      <th>...</th>\n",
       "      <th>soft_assets</th>\n",
       "      <th>ch_cs</th>\n",
       "      <th>ch_cm</th>\n",
       "      <th>ch_roa</th>\n",
       "      <th>issue</th>\n",
       "      <th>bm</th>\n",
       "      <th>dpi</th>\n",
       "      <th>reoa</th>\n",
       "      <th>EBIT</th>\n",
       "      <th>ch_fcf</th>\n",
       "    </tr>\n",
       "  </thead>\n",
       "  <tbody>\n",
       "    <tr>\n",
       "      <td>0</td>\n",
       "      <td>1990</td>\n",
       "      <td>1009</td>\n",
       "      <td>3460.0</td>\n",
       "      <td>0</td>\n",
       "      <td>0</td>\n",
       "      <td>0</td>\n",
       "      <td>NaN</td>\n",
       "      <td>NaN</td>\n",
       "      <td>0</td>\n",
       "      <td>10.047</td>\n",
       "      <td>...</td>\n",
       "      <td>0.312448</td>\n",
       "      <td>0.095082</td>\n",
       "      <td>0.082631</td>\n",
       "      <td>-0.019761</td>\n",
       "      <td>1</td>\n",
       "      <td>0.413170</td>\n",
       "      <td>0.873555</td>\n",
       "      <td>0.167620</td>\n",
       "      <td>0.161961</td>\n",
       "      <td>-0.042140</td>\n",
       "    </tr>\n",
       "    <tr>\n",
       "      <td>4583</td>\n",
       "      <td>1991</td>\n",
       "      <td>1009</td>\n",
       "      <td>3460.0</td>\n",
       "      <td>0</td>\n",
       "      <td>0</td>\n",
       "      <td>0</td>\n",
       "      <td>NaN</td>\n",
       "      <td>NaN</td>\n",
       "      <td>0</td>\n",
       "      <td>12.911</td>\n",
       "      <td>...</td>\n",
       "      <td>0.363340</td>\n",
       "      <td>-0.111586</td>\n",
       "      <td>-0.187708</td>\n",
       "      <td>-0.041154</td>\n",
       "      <td>1</td>\n",
       "      <td>0.258828</td>\n",
       "      <td>0.859404</td>\n",
       "      <td>0.160184</td>\n",
       "      <td>0.105796</td>\n",
       "      <td>-0.023684</td>\n",
       "    </tr>\n",
       "    <tr>\n",
       "      <td>9295</td>\n",
       "      <td>1992</td>\n",
       "      <td>1009</td>\n",
       "      <td>3460.0</td>\n",
       "      <td>0</td>\n",
       "      <td>0</td>\n",
       "      <td>0</td>\n",
       "      <td>NaN</td>\n",
       "      <td>NaN</td>\n",
       "      <td>0</td>\n",
       "      <td>17.011</td>\n",
       "      <td>...</td>\n",
       "      <td>0.404588</td>\n",
       "      <td>0.451306</td>\n",
       "      <td>-0.101757</td>\n",
       "      <td>0.029666</td>\n",
       "      <td>1</td>\n",
       "      <td>0.209332</td>\n",
       "      <td>0.968396</td>\n",
       "      <td>0.159448</td>\n",
       "      <td>0.124309</td>\n",
       "      <td>0.014703</td>\n",
       "    </tr>\n",
       "    <tr>\n",
       "      <td>14265</td>\n",
       "      <td>1993</td>\n",
       "      <td>1009</td>\n",
       "      <td>3460.0</td>\n",
       "      <td>0</td>\n",
       "      <td>0</td>\n",
       "      <td>0</td>\n",
       "      <td>NaN</td>\n",
       "      <td>NaN</td>\n",
       "      <td>0</td>\n",
       "      <td>23.057</td>\n",
       "      <td>...</td>\n",
       "      <td>0.352267</td>\n",
       "      <td>0.348405</td>\n",
       "      <td>-0.319993</td>\n",
       "      <td>0.001852</td>\n",
       "      <td>1</td>\n",
       "      <td>0.161489</td>\n",
       "      <td>1.586663</td>\n",
       "      <td>0.149382</td>\n",
       "      <td>0.120162</td>\n",
       "      <td>-0.027630</td>\n",
       "    </tr>\n",
       "    <tr>\n",
       "      <td>19642</td>\n",
       "      <td>1994</td>\n",
       "      <td>1009</td>\n",
       "      <td>3460.0</td>\n",
       "      <td>0</td>\n",
       "      <td>0</td>\n",
       "      <td>0</td>\n",
       "      <td>1240.0</td>\n",
       "      <td>12401.0</td>\n",
       "      <td>1</td>\n",
       "      <td>33.796</td>\n",
       "      <td>...</td>\n",
       "      <td>0.358561</td>\n",
       "      <td>0.273430</td>\n",
       "      <td>0.272096</td>\n",
       "      <td>-0.001920</td>\n",
       "      <td>1</td>\n",
       "      <td>0.206075</td>\n",
       "      <td>1.132404</td>\n",
       "      <td>0.143619</td>\n",
       "      <td>0.115711</td>\n",
       "      <td>-0.039364</td>\n",
       "    </tr>\n",
       "  </tbody>\n",
       "</table>\n",
       "<p>5 rows × 51 columns</p>\n",
       "</div>"
      ],
      "text/plain": [
       "       fyear  gvkey    sich  insbnk  understatement  option  p_aaer  \\\n",
       "0       1990   1009  3460.0       0               0       0     NaN   \n",
       "4583    1991   1009  3460.0       0               0       0     NaN   \n",
       "9295    1992   1009  3460.0       0               0       0     NaN   \n",
       "14265   1993   1009  3460.0       0               0       0     NaN   \n",
       "19642   1994   1009  3460.0       0               0       0  1240.0   \n",
       "\n",
       "       new_p_aaer  misstate     act  ...  soft_assets     ch_cs     ch_cm  \\\n",
       "0             NaN         0  10.047  ...     0.312448  0.095082  0.082631   \n",
       "4583          NaN         0  12.911  ...     0.363340 -0.111586 -0.187708   \n",
       "9295          NaN         0  17.011  ...     0.404588  0.451306 -0.101757   \n",
       "14265         NaN         0  23.057  ...     0.352267  0.348405 -0.319993   \n",
       "19642     12401.0         1  33.796  ...     0.358561  0.273430  0.272096   \n",
       "\n",
       "         ch_roa  issue        bm       dpi      reoa      EBIT    ch_fcf  \n",
       "0     -0.019761      1  0.413170  0.873555  0.167620  0.161961 -0.042140  \n",
       "4583  -0.041154      1  0.258828  0.859404  0.160184  0.105796 -0.023684  \n",
       "9295   0.029666      1  0.209332  0.968396  0.159448  0.124309  0.014703  \n",
       "14265  0.001852      1  0.161489  1.586663  0.149382  0.120162 -0.027630  \n",
       "19642 -0.001920      1  0.206075  1.132404  0.143619  0.115711 -0.039364  \n",
       "\n",
       "[5 rows x 51 columns]"
      ]
     },
     "execution_count": 173,
     "metadata": {},
     "output_type": "execute_result"
    }
   ],
   "source": [
    "df[df['gvkey'] == 1009]"
   ]
  },
  {
   "cell_type": "code",
   "execution_count": 174,
   "metadata": {},
   "outputs": [],
   "source": [
    "serial_series = df.groupby('gvkey')['misstate'].sum() > 1"
   ]
  },
  {
   "cell_type": "code",
   "execution_count": 175,
   "metadata": {},
   "outputs": [],
   "source": [
    "serial_fraud_list = list(serial_series[serial_series == True].index)"
   ]
  },
  {
   "cell_type": "code",
   "execution_count": 176,
   "metadata": {},
   "outputs": [
    {
     "data": {
      "text/plain": [
       "230"
      ]
     },
     "execution_count": 176,
     "metadata": {},
     "output_type": "execute_result"
    }
   ],
   "source": [
    "len(serial_fraud_list)"
   ]
  },
  {
   "cell_type": "markdown",
   "metadata": {},
   "source": [
    "## Preparing Train/Test Split by Fiscal Year"
   ]
  },
  {
   "cell_type": "code",
   "execution_count": 177,
   "metadata": {},
   "outputs": [],
   "source": [
    "df.drop(columns=['dch_wc',\n",
    "                 'ch_rsst',\n",
    "                 'dch_rec',\n",
    "                 'dch_inv',\n",
    "                 'soft_assets',\n",
    "                 'ch_cs',\n",
    "                 'ch_cm',\n",
    "                 'ch_roa',\n",
    "                 'issue',\n",
    "                 'bm',\n",
    "                 'dpi',\n",
    "                 'reoa',\n",
    "                 'EBIT',\n",
    "                 'ch_fcf'], inplace=True)"
   ]
  },
  {
   "cell_type": "code",
   "execution_count": 210,
   "metadata": {},
   "outputs": [
    {
     "name": "stdout",
     "output_type": "stream",
     "text": [
      "(101501, 37)\n"
     ]
    },
    {
     "data": {
      "text/plain": [
       "0    100705\n",
       "1       796\n",
       "Name: misstate, dtype: int64"
      ]
     },
     "execution_count": 210,
     "metadata": {},
     "output_type": "execute_result"
    }
   ],
   "source": [
    "df_train = df[(df.fyear >= 1990) & (df.fyear <= 2006)]\n",
    "df_train.reset_index(drop=True, inplace=True)\n",
    "df_train.reset_index(drop=True, inplace=True)\n",
    "print(df_train.shape)\n",
    "df_train.misstate.value_counts()"
   ]
  },
  {
   "cell_type": "code",
   "execution_count": 211,
   "metadata": {},
   "outputs": [
    {
     "name": "stdout",
     "output_type": "stream",
     "text": [
      "(44544, 37)\n"
     ]
    },
    {
     "data": {
      "text/plain": [
       "0    44376\n",
       "1      168\n",
       "Name: misstate, dtype: int64"
      ]
     },
     "execution_count": 211,
     "metadata": {},
     "output_type": "execute_result"
    }
   ],
   "source": [
    "df_test = df[df.fyear > 2006]\n",
    "df_test.reset_index(drop=True, inplace=True)\n",
    "df_test.reset_index(drop=True, inplace=True)\n",
    "print(df_test.shape)\n",
    "df_test.misstate.value_counts()"
   ]
  },
  {
   "cell_type": "code",
   "execution_count": 212,
   "metadata": {},
   "outputs": [],
   "source": [
    "X = df_train.drop(columns=['fyear','gvkey','sich','insbnk','understatement','option','p_aaer','new_p_aaer','misstate'], axis = 1)\n",
    "y = df_train.misstate"
   ]
  },
  {
   "cell_type": "code",
   "execution_count": 213,
   "metadata": {},
   "outputs": [],
   "source": [
    "X2 = df_test.drop(columns=['fyear','gvkey','sich','insbnk','understatement','option','p_aaer','new_p_aaer','misstate'], axis = 1)\n",
    "y2 = df_test.misstate"
   ]
  },
  {
   "cell_type": "markdown",
   "metadata": {},
   "source": [
    "## Benchmark RUS AdaBoost Model"
   ]
  },
  {
   "cell_type": "code",
   "execution_count": 214,
   "metadata": {
    "jupyter": {
     "source_hidden": true
    }
   },
   "outputs": [],
   "source": [
    "def RUS_AdaBoostClassifier_train(X, y, k_folds=10, random_state=42):\n",
    "    \n",
    "    skf = StratifiedKFold(n_splits=k_folds, shuffle=True, random_state=random_state)\n",
    "\n",
    "    metrics_results = {}\n",
    "    accuracy_list = []\n",
    "    precision_list = []\n",
    "    recall_list = []\n",
    "    roc_auc_list = []\n",
    "    TN_list = []\n",
    "    FP_list = []\n",
    "    FN_list = []\n",
    "    TP_list = []\n",
    "\n",
    "    for train_index, test_index in skf.split(X, y):\n",
    "        X_train, X_test = X.iloc[train_index], X.iloc[test_index]\n",
    "        y_train, y_test = y.iloc[train_index], y.iloc[test_index]\n",
    "\n",
    "        # fitting the model\n",
    "        clf = RUSBoostClassifier()\n",
    "        clf = clf.fit(X_train, y_train)\n",
    "\n",
    "        y_test_predicted = clf.predict(X_test)\n",
    "        y_test_predicted_prob = clf.predict_proba(X_test)\n",
    "\n",
    "        #code for calculating accuracy \n",
    "        accuracy = accuracy_score(y_test, y_test_predicted, normalize=True)\n",
    "        accuracy_list.append(accuracy)\n",
    "\n",
    "        #code for calculating recall \n",
    "        recall = recall_score(y_test, y_test_predicted, average=None)\n",
    "        recall_list.append(recall)\n",
    "\n",
    "        #code for calculating ROC AUC score \n",
    "        roc_auc = roc_auc_score(y_test, y_test_predicted)\n",
    "        roc_auc_list.append(roc_auc)\n",
    "\n",
    "        #code for calculating precision \n",
    "        precision = precision_score(y_test, y_test_predicted, average=None)\n",
    "        precision_list.append(precision)\n",
    "\n",
    "        #code for calculating confusion matrix \n",
    "        confusion = confusion_matrix(y_test, y_test_predicted)\n",
    "        TN_list.append(confusion[0][0])\n",
    "        FP_list.append(confusion[0][1])\n",
    "        FN_list.append(confusion[1][0])\n",
    "        TP_list.append(confusion[1][1])\n",
    "\n",
    "    # creating a metrics dictionary\n",
    "    metrics_results['Accuracy'] = np.mean(accuracy_list)\n",
    "    metrics_results['Precision'] = np.mean(precision_list, axis=0)\n",
    "    metrics_results['Recall'] = np.mean(recall_list, axis=0)\n",
    "    metrics_results['ROC AUC'] = np.mean(roc_auc_list, axis=0)\n",
    "    metrics_results['TN'] = np.mean(TN_list)\n",
    "    metrics_results['FP'] = np.mean(FP_list)\n",
    "    metrics_results['FN'] = np.mean(FN_list)\n",
    "    metrics_results['TP'] = np.mean(TP_list)\n",
    "    sensitivity = metrics_results['TP']/(metrics_results['TP']+metrics_results['FN'])\n",
    "    specificity = metrics_results['TN']/(metrics_results['TN']+metrics_results['FP'])\n",
    "\n",
    "    print('\\t\\tAccuracy:', metrics_results['Accuracy'])\n",
    "    print('\\t\\tPrecision:', metrics_results['Precision'])\n",
    "    print('\\t\\tRecall:', metrics_results['Recall'])\n",
    "    print('\\t\\tRoc AUC:', metrics_results['ROC AUC'])\n",
    "    print('\\t\\tTrue Pos:', round(metrics_results['TP'], ndigits=0))\n",
    "    print('\\t\\tFalse Pos:', round(metrics_results['FP'], ndigits=0))\n",
    "    print('\\t\\tTrue Neg:', round(metrics_results['TN'], ndigits=0))\n",
    "    print('\\t\\tFalse Neg:', round(metrics_results['FN'], ndigits=0))\n",
    "    print('\\t\\tSensitivity:', sensitivity)\n",
    "    print('\\t\\tSpecificity:', specificity)\n",
    "\n",
    "    cm = [[metrics_results['TN'], metrics_results['FP']], [metrics_results['FN'], metrics_results['TP']]]\n",
    "    plt.figure(figsize=(14,7))\n",
    "    sns.heatmap(cm,  cmap= 'Reds', annot=True, fmt='1')\n",
    "    plt.xlabel('predicted')\n",
    "    plt.ylabel('actual')\n",
    "    plt.title('Confusion Matrix')\n",
    "    plt.show()\n",
    "\n",
    "    return"
   ]
  },
  {
   "cell_type": "code",
   "execution_count": 215,
   "metadata": {},
   "outputs": [
    {
     "name": "stdout",
     "output_type": "stream",
     "text": [
      "\t\tAccuracy: 0.7368598885887143\n",
      "\t\tPrecision: [0.9950442  0.01651181]\n",
      "\t\tRecall: [0.73847431 0.53280063]\n",
      "\t\tRoc AUC: 0.6356374714832035\n",
      "\t\tTrue Pos: 42.0\n",
      "\t\tFalse Pos: 2634.0\n",
      "\t\tTrue Neg: 7437.0\n",
      "\t\tFalse Neg: 37.0\n",
      "\t\tSensitivity: 0.5326633165829145\n",
      "\t\tSpecificity: 0.738473759992056\n"
     ]
    },
    {
     "data": {
      "image/png": "[encoded data removed]",
      "text/plain": [
       "<Figure size 1008x504 with 2 Axes>"
      ]
     },
     "metadata": {
      "needs_background": "light"
     },
     "output_type": "display_data"
    }
   ],
   "source": [
    "RUS_AdaBoostClassifier_train(X, y, k_folds=10, random_state=42)"
   ]
  },
  {
   "cell_type": "markdown",
   "metadata": {},
   "source": [
    "## Compare Benchmark RUSBoost(Ada) Model to XGBoost w/ RUS"
   ]
  },
  {
   "cell_type": "code",
   "execution_count": 216,
   "metadata": {
    "jupyter": {
     "source_hidden": true
    }
   },
   "outputs": [],
   "source": [
    "def RUS_XGBClassifier_train(X, y, k_folds=10, random_state=42):\n",
    "    skf = StratifiedKFold(n_splits=k_folds, shuffle=True, random_state=random_state)\n",
    "    rus = RandomUnderSampler(random_state=random_state)\n",
    "\n",
    "    metrics_results = {}\n",
    "    accuracy_list = []\n",
    "    precision_list = []\n",
    "    recall_list = []\n",
    "    roc_auc_list = []\n",
    "    TN_list = []\n",
    "    FP_list = []\n",
    "    FN_list = []\n",
    "    TP_list = []\n",
    "\n",
    "    for train_index, test_index in skf.split(X, y):\n",
    "        X_train, X_test = X.iloc[train_index], X.iloc[test_index]\n",
    "        y_train, y_test = y.iloc[train_index], y.iloc[test_index]\n",
    "\n",
    "        # undersampling each fold using Random Under Sampling with a class ratio of 1 to 1\n",
    "        X_train_res, y_train_res = rus.fit_resample(X_train, y_train)\n",
    "\n",
    "        # fitting the model\n",
    "        xgb_model = XGBClassifier(learning_rate=0.1,n_estimators=1000,max_depth=5,\n",
    "                            min_child_weight=1,gamma=0,subsample=0.8,colsample_bytree=0.8,\n",
    "                            objective='binary:logistic',nthread=4,scale_pos_weight=1)\n",
    "        xgb_model = xgb_model.fit(X_train_res, y_train_res)\n",
    "\n",
    "        y_test_predicted = xgb_model.predict(X_test)\n",
    "        y_test_predicted_prob = xgb_model.predict_proba(X_test)\n",
    "\n",
    "        #code for calculating accuracy \n",
    "        accuracy = accuracy_score(y_test, y_test_predicted, normalize=True)\n",
    "        accuracy_list.append(accuracy)\n",
    "\n",
    "        #code for calculating recall \n",
    "        recall = recall_score(y_test, y_test_predicted, average=None)\n",
    "        recall_list.append(recall)\n",
    "\n",
    "        #code for calculating ROC AUC score \n",
    "        roc_auc = roc_auc_score(y_test, y_test_predicted)\n",
    "        roc_auc_list.append(roc_auc)\n",
    "\n",
    "        #code for calculating precision \n",
    "        precision = precision_score(y_test, y_test_predicted, average=None)\n",
    "        precision_list.append(precision)\n",
    "\n",
    "        #code for calculating confusion matrix \n",
    "        confusion = confusion_matrix(y_test, y_test_predicted)\n",
    "        TN_list.append(confusion[0][0])\n",
    "        FP_list.append(confusion[0][1])\n",
    "        FN_list.append(confusion[1][0])\n",
    "        TP_list.append(confusion[1][1])\n",
    "\n",
    "    # creating a metrics dictionary\n",
    "    metrics_results['Accuracy'] = np.mean(accuracy_list)\n",
    "    metrics_results['Precision'] = np.mean(precision_list, axis=0)\n",
    "    metrics_results['Recall'] = np.mean(recall_list, axis=0)\n",
    "    metrics_results['ROC AUC'] = np.mean(roc_auc_list, axis=0)\n",
    "    metrics_results['TN'] = np.mean(TN_list)\n",
    "    metrics_results['FP'] = np.mean(FP_list)\n",
    "    metrics_results['FN'] = np.mean(FN_list)\n",
    "    metrics_results['TP'] = np.mean(TP_list)\n",
    "    sensitivity = metrics_results['TP']/(metrics_results['TP']+metrics_results['FN'])\n",
    "    specificity = metrics_results['TN']/(metrics_results['TN']+metrics_results['FP'])\n",
    "\n",
    "    print('\\t\\tAccuracy:', metrics_results['Accuracy'])\n",
    "    print('\\t\\tPrecision:', metrics_results['Precision'])\n",
    "    print('\\t\\tRecall:', metrics_results['Recall'])\n",
    "    print('\\t\\tRoc AUC:', metrics_results['ROC AUC'])\n",
    "    print('\\t\\tTrue Pos:', round(metrics_results['TP'], ndigits=0))\n",
    "    print('\\t\\tFalse Pos:', round(metrics_results['FP'], ndigits=0))\n",
    "    print('\\t\\tTrue Neg:', round(metrics_results['TN'], ndigits=0))\n",
    "    print('\\t\\tFalse Neg:', round(metrics_results['FN'], ndigits=0))\n",
    "    print('\\t\\tSensitivity:', sensitivity)\n",
    "    print('\\t\\tSpecificity:', specificity)\n",
    "\n",
    "    cm = [[metrics_results['TN'], metrics_results['FP']], [metrics_results['FN'], metrics_results['TP']]]\n",
    "    plt.figure(figsize=(14,7))\n",
    "    sns.heatmap(cm,  cmap= 'Reds', annot=True, fmt='1')\n",
    "    plt.xlabel('predicted')\n",
    "    plt.ylabel('actual')\n",
    "    plt.title('Confusion Matrix')\n",
    "    plt.show()\n",
    "\n",
    "    return"
   ]
  },
  {
   "cell_type": "code",
   "execution_count": 217,
   "metadata": {},
   "outputs": [
    {
     "name": "stdout",
     "output_type": "stream",
     "text": [
      "\t\tAccuracy: 0.7343575245322722\n",
      "\t\tPrecision: [0.99778897 0.02304647]\n",
      "\t\tRecall: [0.73388637 0.79419304]\n",
      "\t\tRoc AUC: 0.7640397049883829\n",
      "\t\tTrue Pos: 63.0\n",
      "\t\tFalse Pos: 2680.0\n",
      "\t\tTrue Neg: 7391.0\n",
      "\t\tFalse Neg: 16.0\n",
      "\t\tSensitivity: 0.7939698492462313\n",
      "\t\tSpecificity: 0.7338861029740331\n"
     ]
    },
    {
     "data": {
      "image/png": "[encoded data removed]",
      "text/plain": [
       "<Figure size 1008x504 with 2 Axes>"
      ]
     },
     "metadata": {
      "needs_background": "light"
     },
     "output_type": "display_data"
    }
   ],
   "source": [
    "RUS_XGBClassifier_train(X,y,k_folds=10,random_state=42)"
   ]
  },
  {
   "cell_type": "markdown",
   "metadata": {},
   "source": [
    "## Fit RUS AdaBoost Model"
   ]
  },
  {
   "cell_type": "code",
   "execution_count": 218,
   "metadata": {
    "jupyter": {
     "source_hidden": true
    }
   },
   "outputs": [],
   "source": [
    "def RUSBoostClassifier_fit(X, y, random_state=42):\n",
    "    \n",
    "    metrics_results = {}\n",
    "    \n",
    "    # train test Split with stratification\n",
    "    X_train, X_test, y_train, y_test = train_test_split(X, y, stratify=y, test_size = 0.33, random_state=random_state)\n",
    "\n",
    "    # fitting the model\n",
    "    clf_model = RUSBoostClassifier()\n",
    "    clf_model = clf_model.fit(X_train, y_train)\n",
    "\n",
    "    y_test_predicted = clf_model.predict(X_test)\n",
    "    y_test_predicted_prob = clf_model.predict_proba(X_test)\n",
    "    \n",
    "    accuracy = accuracy_score(y_test, y_test_predicted, normalize=True)\n",
    "    recall = recall_score(y_test, y_test_predicted, average=None)\n",
    "    roc_auc = roc_auc_score(y_test, y_test_predicted)\n",
    "    precision = precision_score(y_test, y_test_predicted, average=None)\n",
    "    confusion = confusion_matrix(y_test, y_test_predicted)\n",
    "    TN = confusion[0][0]\n",
    "    FP = confusion[0][1]\n",
    "    FN = confusion[1][0]\n",
    "    TP = confusion[1][1]\n",
    "\n",
    "    # creating a metrics dictionary\n",
    "    metrics_results['Accuracy'] = accuracy\n",
    "    metrics_results['Precision'] = precision\n",
    "    metrics_results['Recall'] = recall\n",
    "    metrics_results['ROC AUC'] = roc_auc\n",
    "    metrics_results['TN'] = TN\n",
    "    metrics_results['FP'] = FP\n",
    "    metrics_results['FN'] = FN\n",
    "    metrics_results['TP'] = TP\n",
    "    sensitivity = TP/(TP+FN)\n",
    "    specificity = TN/(TN+FP)\n",
    "\n",
    "    print('\\t\\tAccuracy:', metrics_results['Accuracy'])\n",
    "    print('\\t\\tPrecision:', metrics_results['Precision'])\n",
    "    print('\\t\\tRecall:', metrics_results['Recall'])\n",
    "    print('\\t\\tRoc AUC:', metrics_results['ROC AUC'])\n",
    "    print('\\t\\tTrue Pos:', TP)\n",
    "    print('\\t\\tFalse Pos:', FP)\n",
    "    print('\\t\\tTrue Neg:', TN)\n",
    "    print('\\t\\tFalse Neg:', FN)\n",
    "    print('\\t\\tSensitivity:', sensitivity)\n",
    "    print('\\t\\tSpecificity:', specificity)\n",
    "\n",
    "    cm = [[TN, FP], [FN, TP]]\n",
    "    plt.figure(figsize=(14,7))\n",
    "    sns.heatmap(cm,  cmap= 'Blues', annot=True, fmt='1')\n",
    "    plt.xlabel('predicted')\n",
    "    plt.ylabel('actual')\n",
    "    plt.title('Confusion Matrix')\n",
    "    plt.show()\n",
    "    \n",
    "    return clf_model"
   ]
  },
  {
   "cell_type": "code",
   "execution_count": 219,
   "metadata": {},
   "outputs": [
    {
     "name": "stdout",
     "output_type": "stream",
     "text": [
      "\t\tAccuracy: 0.715219727728684\n",
      "\t\tPrecision: [0.99577335 0.016875  ]\n",
      "\t\tRecall: [0.71600518 0.61596958]\n",
      "\t\tRoc AUC: 0.6659873786637704\n",
      "\t\tTrue Pos: 162\n",
      "\t\tFalse Pos: 9438\n",
      "\t\tTrue Neg: 23795\n",
      "\t\tFalse Neg: 101\n",
      "\t\tSensitivity: 0.6159695817490495\n",
      "\t\tSpecificity: 0.7160051755784913\n"
     ]
    },
    {
     "data": {
      "image/png": "[encoded data removed]",
      "text/plain": [
       "<Figure size 1008x504 with 2 Axes>"
      ]
     },
     "metadata": {
      "needs_background": "light"
     },
     "output_type": "display_data"
    }
   ],
   "source": [
    "clf_model = RUSBoostClassifier_fit(X, y, random_state=42)"
   ]
  },
  {
   "cell_type": "markdown",
   "metadata": {},
   "source": [
    "## Fit XGBoost Model"
   ]
  },
  {
   "cell_type": "code",
   "execution_count": 220,
   "metadata": {
    "jupyter": {
     "source_hidden": true
    }
   },
   "outputs": [],
   "source": [
    "def XGBClassifier_fit(X, y, random_state=42):\n",
    "    \n",
    "    rus = RandomUnderSampler(random_state=random_state)\n",
    "    metrics_results = {}\n",
    "    \n",
    "    # train test Split with stratification\n",
    "    X_train, X_test, y_train, y_test = train_test_split(X, y, stratify=y, test_size = 0.33, random_state=random_state)\n",
    "\n",
    "    # undersampling using Random Under Sampling with a class ratio of 1 to 1\n",
    "    X_train_res, y_train_res = rus.fit_resample(X_train, y_train)\n",
    "\n",
    "    # fitting the model\n",
    "    xgb_model = XGBClassifier(learning_rate=0.1,n_estimators=1000,max_depth=5,\n",
    "                        min_child_weight=1,gamma=0,subsample=0.8,colsample_bytree=0.8,\n",
    "                        objective='binary:logistic',nthread=4,scale_pos_weight=1)\n",
    "    xgb_model = xgb_model.fit(X_train_res, y_train_res)\n",
    "\n",
    "    y_test_predicted = xgb_model.predict(X_test)\n",
    "    y_test_predicted_prob = xgb_model.predict_proba(X_test)\n",
    "    \n",
    "    accuracy = accuracy_score(y_test, y_test_predicted, normalize=True)\n",
    "    recall = recall_score(y_test, y_test_predicted, average=None)\n",
    "    roc_auc = roc_auc_score(y_test, y_test_predicted)\n",
    "    precision = precision_score(y_test, y_test_predicted, average=None)\n",
    "    confusion = confusion_matrix(y_test, y_test_predicted)\n",
    "    TN = confusion[0][0]\n",
    "    FP = confusion[0][1]\n",
    "    FN = confusion[1][0]\n",
    "    TP = confusion[1][1]\n",
    "\n",
    "    # creating a metrics dictionary\n",
    "    metrics_results['Accuracy'] = accuracy\n",
    "    metrics_results['Precision'] = precision\n",
    "    metrics_results['Recall'] = recall\n",
    "    metrics_results['ROC AUC'] = roc_auc\n",
    "    metrics_results['TN'] = TN\n",
    "    metrics_results['FP'] = FP\n",
    "    metrics_results['FN'] = FN\n",
    "    metrics_results['TP'] = TP\n",
    "    sensitivity = TP/(TP+FN)\n",
    "    specificity = TN/(TN+FP)\n",
    "\n",
    "    print('\\t\\tAccuracy:', metrics_results['Accuracy'])\n",
    "    print('\\t\\tPrecision:', metrics_results['Precision'])\n",
    "    print('\\t\\tRecall:', metrics_results['Recall'])\n",
    "    print('\\t\\tRoc AUC:', metrics_results['ROC AUC'])\n",
    "    print('\\t\\tTrue Pos:', TP)\n",
    "    print('\\t\\tFalse Pos:', FP)\n",
    "    print('\\t\\tTrue Neg:', TN)\n",
    "    print('\\t\\tFalse Neg:', FN)\n",
    "    print('\\t\\tSensitivity:', sensitivity)\n",
    "    print('\\t\\tSpecificity:', specificity)\n",
    "\n",
    "    cm = [[TN, FP], [FN, TP]]\n",
    "    plt.figure(figsize=(14,7))\n",
    "    sns.heatmap(cm,  cmap= 'Blues', annot=True, fmt='1')\n",
    "    plt.xlabel('predicted')\n",
    "    plt.ylabel('actual')\n",
    "    plt.title('Confusion Matrix')\n",
    "    plt.show()\n",
    "    \n",
    "    feat_imp = pd.Series(xgb_model.get_booster().get_fscore()).sort_values(ascending=False)\n",
    "    feat_imp.plot(kind='bar', title='Feature Importance', figsize=(12,6), color='blue')\n",
    "    plt.ylabel('Feature Importance Score')\n",
    "    plt.show()\n",
    "    \n",
    "    return xgb_model"
   ]
  },
  {
   "cell_type": "code",
   "execution_count": 221,
   "metadata": {},
   "outputs": [
    {
     "name": "stdout",
     "output_type": "stream",
     "text": [
      "\t\tAccuracy: 0.7016658705517077\n",
      "\t\tPrecision: [0.9977298  0.02068966]\n",
      "\t\tRecall: [0.70089971 0.79847909]\n",
      "\t\tRoc AUC: 0.7496893977869585\n",
      "\t\tTrue Pos: 210\n",
      "\t\tFalse Pos: 9940\n",
      "\t\tTrue Neg: 23293\n",
      "\t\tFalse Neg: 53\n",
      "\t\tSensitivity: 0.7984790874524715\n",
      "\t\tSpecificity: 0.7008997081214455\n"
     ]
    },
    {
     "data": {
      "image/png": "[encoded data removed]",
      "text/plain": [
       "<Figure size 1008x504 with 2 Axes>"
      ]
     },
     "metadata": {
      "needs_background": "light"
     },
     "output_type": "display_data"
    },
    {
     "data": {
      "image/png": "[encoded data removed]",
      "text/plain": [
       "<Figure size 864x432 with 1 Axes>"
      ]
     },
     "metadata": {
      "needs_background": "light"
     },
     "output_type": "display_data"
    }
   ],
   "source": [
    "xgb_model = XGBClassifier_fit(X, y, random_state=42)"
   ]
  },
  {
   "cell_type": "markdown",
   "metadata": {},
   "source": [
    "## Test RUS AdaBoost Model"
   ]
  },
  {
   "cell_type": "code",
   "execution_count": 222,
   "metadata": {
    "jupyter": {
     "source_hidden": true
    }
   },
   "outputs": [],
   "source": [
    "def RUSBoostClassifier_test(fit_model, X, y):\n",
    "    \n",
    "    metrics_results = {}\n",
    "    y_predicted = fit_model.predict(X)\n",
    "#     y_predicted = (fit_model.predict_proba(X)[:,1] >= 0.95).astype(bool)\n",
    "    y_predicted_prob = fit_model.predict_proba(X)\n",
    "    \n",
    "    accuracy = accuracy_score(y, y_predicted, normalize=True)\n",
    "    recall = recall_score(y, y_predicted, average=None)\n",
    "    roc_auc = roc_auc_score(y, y_predicted)\n",
    "    precision = precision_score(y, y_predicted, average=None)\n",
    "    confusion = confusion_matrix(y, y_predicted)\n",
    "    TN = confusion[0][0]\n",
    "    FP = confusion[0][1]\n",
    "    FN = confusion[1][0]\n",
    "    TP = confusion[1][1]\n",
    "\n",
    "    # creating a metrics dictionary\n",
    "    metrics_results['Accuracy'] = accuracy\n",
    "    metrics_results['Precision'] = precision\n",
    "    metrics_results['Recall'] = recall\n",
    "    metrics_results['ROC AUC'] = roc_auc\n",
    "    metrics_results['TN'] = TN\n",
    "    metrics_results['FP'] = FP\n",
    "    metrics_results['FN'] = FN\n",
    "    metrics_results['TP'] = TP\n",
    "    sensitivity = TP/(TP+FN)\n",
    "    specificity = TN/(TN+FP)\n",
    "\n",
    "    print('\\t\\tAccuracy:', metrics_results['Accuracy'])\n",
    "    print('\\t\\tPrecision:', metrics_results['Precision'])\n",
    "    print('\\t\\tRecall:', metrics_results['Recall'])\n",
    "    print('\\t\\tRoc AUC:', metrics_results['ROC AUC'])\n",
    "    print('\\t\\tTrue Pos:', TP)\n",
    "    print('\\t\\tFalse Pos:', FP)\n",
    "    print('\\t\\tTrue Neg:', TN)\n",
    "    print('\\t\\tFalse Neg:', FN)\n",
    "    print('\\t\\tSensitivity:', sensitivity)\n",
    "    print('\\t\\tSpecificity:', specificity)\n",
    "\n",
    "    cm = [[TN, FP], [FN, TP]]\n",
    "    plt.figure(figsize=(14,7))\n",
    "    sns.heatmap(cm,  cmap= 'Greens', annot=True, fmt='1')\n",
    "    plt.xlabel('predicted')\n",
    "    plt.ylabel('actual')\n",
    "    plt.title('Confusion Matrix')\n",
    "    plt.show()\n",
    "\n",
    "    return"
   ]
  },
  {
   "cell_type": "code",
   "execution_count": 223,
   "metadata": {},
   "outputs": [
    {
     "name": "stdout",
     "output_type": "stream",
     "text": [
      "\t\tAccuracy: 0.7075475933908046\n",
      "\t\tPrecision: [0.99765057 0.00720472]\n",
      "\t\tRecall: [0.70810799 0.55952381]\n",
      "\t\tRoc AUC: 0.6338158979113551\n",
      "\t\tTrue Pos: 94\n",
      "\t\tFalse Pos: 12953\n",
      "\t\tTrue Neg: 31423\n",
      "\t\tFalse Neg: 74\n",
      "\t\tSensitivity: 0.5595238095238095\n",
      "\t\tSpecificity: 0.7081079862989003\n"
     ]
    },
    {
     "data": {
      "image/png": "[encoded data removed]",
      "text/plain": [
       "<Figure size 1008x504 with 2 Axes>"
      ]
     },
     "metadata": {
      "needs_background": "light"
     },
     "output_type": "display_data"
    }
   ],
   "source": [
    "RUSBoostClassifier_test(clf_model, X2, y2)"
   ]
  },
  {
   "cell_type": "markdown",
   "metadata": {},
   "source": [
    "## Test XGBoost Model"
   ]
  },
  {
   "cell_type": "code",
   "execution_count": 224,
   "metadata": {
    "jupyter": {
     "source_hidden": true
    }
   },
   "outputs": [],
   "source": [
    "def XGBClassifier_test(fit_model, X, y):\n",
    "    \n",
    "    metrics_results = {}\n",
    "    y_predicted = fit_model.predict(X)\n",
    "#     y_predicted = (fit_model.predict_proba(X)[:,1] >= 0.95).astype(bool)\n",
    "    y_predicted_prob = fit_model.predict_proba(X)\n",
    "    \n",
    "    accuracy = accuracy_score(y, y_predicted, normalize=True)\n",
    "    recall = recall_score(y, y_predicted, average=None)\n",
    "    roc_auc = roc_auc_score(y, y_predicted)\n",
    "    precision = precision_score(y, y_predicted, average=None)\n",
    "    confusion = confusion_matrix(y, y_predicted)\n",
    "    TN = confusion[0][0]\n",
    "    FP = confusion[0][1]\n",
    "    FN = confusion[1][0]\n",
    "    TP = confusion[1][1]\n",
    "\n",
    "    # creating a metrics dictionary\n",
    "    metrics_results['Accuracy'] = accuracy\n",
    "    metrics_results['Precision'] = precision\n",
    "    metrics_results['Recall'] = recall\n",
    "    metrics_results['ROC AUC'] = roc_auc\n",
    "    metrics_results['TN'] = TN\n",
    "    metrics_results['FP'] = FP\n",
    "    metrics_results['FN'] = FN\n",
    "    metrics_results['TP'] = TP\n",
    "    sensitivity = TP/(TP+FN)\n",
    "    specificity = TN/(TN+FP)\n",
    "\n",
    "    print('\\t\\tAccuracy:', metrics_results['Accuracy'])\n",
    "    print('\\t\\tPrecision:', metrics_results['Precision'])\n",
    "    print('\\t\\tRecall:', metrics_results['Recall'])\n",
    "    print('\\t\\tRoc AUC:', metrics_results['ROC AUC'])\n",
    "    print('\\t\\tTrue Pos:', TP)\n",
    "    print('\\t\\tFalse Pos:', FP)\n",
    "    print('\\t\\tTrue Neg:', TN)\n",
    "    print('\\t\\tFalse Neg:', FN)\n",
    "    print('\\t\\tSensitivity:', sensitivity)\n",
    "    print('\\t\\tSpecificity:', specificity)\n",
    "\n",
    "    cm = [[TN, FP], [FN, TP]]\n",
    "    plt.figure(figsize=(14,7))\n",
    "    sns.heatmap(cm,  cmap= 'Greens', annot=True, fmt='1')\n",
    "    plt.xlabel('predicted')\n",
    "    plt.ylabel('actual')\n",
    "    plt.title('Confusion Matrix')\n",
    "    plt.show()\n",
    "    \n",
    "    feat_imp = pd.Series(fit_model.get_booster().get_fscore()).sort_values(ascending=False)\n",
    "    feat_imp.plot(kind='bar', title='Feature Importance', figsize=(12,6), color='green')\n",
    "    plt.ylabel('Feature Importance Score')\n",
    "    plt.show()\n",
    "\n",
    "    return"
   ]
  },
  {
   "cell_type": "code",
   "execution_count": 225,
   "metadata": {},
   "outputs": [
    {
     "name": "stdout",
     "output_type": "stream",
     "text": [
      "\t\tAccuracy: 0.6755118534482759\n",
      "\t\tPrecision: [0.9979365  0.00731135]\n",
      "\t\tRecall: [0.67568055 0.63095238]\n",
      "\t\tRoc AUC: 0.6533164644981844\n",
      "\t\tTrue Pos: 106\n",
      "\t\tFalse Pos: 14392\n",
      "\t\tTrue Neg: 29984\n",
      "\t\tFalse Neg: 62\n",
      "\t\tSensitivity: 0.6309523809523809\n",
      "\t\tSpecificity: 0.6756805480439877\n"
     ]
    },
    {
     "data": {
      "image/png": "[encoded data removed]",
      "text/plain": [
       "<Figure size 1008x504 with 2 Axes>"
      ]
     },
     "metadata": {
      "needs_background": "light"
     },
     "output_type": "display_data"
    },
    {
     "data": {
      "image/png": "[encoded data removed]",
      "text/plain": [
       "<Figure size 864x432 with 1 Axes>"
      ]
     },
     "metadata": {
      "needs_background": "light"
     },
     "output_type": "display_data"
    }
   ],
   "source": [
    "XGBClassifier_test(xgb_model, X2, y2)"
   ]
  },
  {
   "cell_type": "code",
   "execution_count": 255,
   "metadata": {},
   "outputs": [],
   "source": [
    "y_predicted = pd.Series(xgb_model.predict(X), name='predicted')\n",
    "y_predicted_prob = pd.DataFrame(data=xgb_model.predict_proba(X), columns=['prb_no_fraud', 'prb_fraud'])"
   ]
  },
  {
   "cell_type": "code",
   "execution_count": 304,
   "metadata": {},
   "outputs": [],
   "source": [
    "proba_df = y_predicted_prob.join(y_predicted)\n",
    "proba_df = proba_df.join(y)\n",
    "proba_df = proba_df.join(df_train[['fyear', 'gvkey']])"
   ]
  },
  {
   "cell_type": "code",
   "execution_count": 305,
   "metadata": {},
   "outputs": [
    {
     "data": {
      "text/html": [
       "<div>\n",
       "<style scoped>\n",
       "    .dataframe tbody tr th:only-of-type {\n",
       "        vertical-align: middle;\n",
       "    }\n",
       "\n",
       "    .dataframe tbody tr th {\n",
       "        vertical-align: top;\n",
       "    }\n",
       "\n",
       "    .dataframe thead th {\n",
       "        text-align: right;\n",
       "    }\n",
       "</style>\n",
       "<table border=\"1\" class=\"dataframe\">\n",
       "  <thead>\n",
       "    <tr style=\"text-align: right;\">\n",
       "      <th></th>\n",
       "      <th>prb_no_fraud</th>\n",
       "      <th>prb_fraud</th>\n",
       "      <th>predicted</th>\n",
       "      <th>misstate</th>\n",
       "      <th>fyear</th>\n",
       "      <th>gvkey</th>\n",
       "    </tr>\n",
       "  </thead>\n",
       "  <tbody>\n",
       "    <tr>\n",
       "      <td>0</td>\n",
       "      <td>0.858391</td>\n",
       "      <td>0.141609</td>\n",
       "      <td>0</td>\n",
       "      <td>0</td>\n",
       "      <td>1990</td>\n",
       "      <td>1009</td>\n",
       "    </tr>\n",
       "    <tr>\n",
       "      <td>1</td>\n",
       "      <td>0.401314</td>\n",
       "      <td>0.598686</td>\n",
       "      <td>1</td>\n",
       "      <td>0</td>\n",
       "      <td>1990</td>\n",
       "      <td>1011</td>\n",
       "    </tr>\n",
       "    <tr>\n",
       "      <td>2</td>\n",
       "      <td>0.985697</td>\n",
       "      <td>0.014303</td>\n",
       "      <td>0</td>\n",
       "      <td>0</td>\n",
       "      <td>1990</td>\n",
       "      <td>1017</td>\n",
       "    </tr>\n",
       "    <tr>\n",
       "      <td>3</td>\n",
       "      <td>0.282871</td>\n",
       "      <td>0.717129</td>\n",
       "      <td>1</td>\n",
       "      <td>0</td>\n",
       "      <td>1990</td>\n",
       "      <td>1021</td>\n",
       "    </tr>\n",
       "    <tr>\n",
       "      <td>4</td>\n",
       "      <td>0.984004</td>\n",
       "      <td>0.015996</td>\n",
       "      <td>0</td>\n",
       "      <td>0</td>\n",
       "      <td>1990</td>\n",
       "      <td>1028</td>\n",
       "    </tr>\n",
       "    <tr>\n",
       "      <td>...</td>\n",
       "      <td>...</td>\n",
       "      <td>...</td>\n",
       "      <td>...</td>\n",
       "      <td>...</td>\n",
       "      <td>...</td>\n",
       "      <td>...</td>\n",
       "    </tr>\n",
       "    <tr>\n",
       "      <td>101496</td>\n",
       "      <td>0.914820</td>\n",
       "      <td>0.085180</td>\n",
       "      <td>0</td>\n",
       "      <td>0</td>\n",
       "      <td>2006</td>\n",
       "      <td>277579</td>\n",
       "    </tr>\n",
       "    <tr>\n",
       "      <td>101497</td>\n",
       "      <td>0.271147</td>\n",
       "      <td>0.728853</td>\n",
       "      <td>1</td>\n",
       "      <td>0</td>\n",
       "      <td>2006</td>\n",
       "      <td>277846</td>\n",
       "    </tr>\n",
       "    <tr>\n",
       "      <td>101498</td>\n",
       "      <td>0.380409</td>\n",
       "      <td>0.619591</td>\n",
       "      <td>1</td>\n",
       "      <td>0</td>\n",
       "      <td>2006</td>\n",
       "      <td>278234</td>\n",
       "    </tr>\n",
       "    <tr>\n",
       "      <td>101499</td>\n",
       "      <td>0.344683</td>\n",
       "      <td>0.655317</td>\n",
       "      <td>1</td>\n",
       "      <td>0</td>\n",
       "      <td>2006</td>\n",
       "      <td>278400</td>\n",
       "    </tr>\n",
       "    <tr>\n",
       "      <td>101500</td>\n",
       "      <td>0.996719</td>\n",
       "      <td>0.003281</td>\n",
       "      <td>0</td>\n",
       "      <td>0</td>\n",
       "      <td>2006</td>\n",
       "      <td>279398</td>\n",
       "    </tr>\n",
       "  </tbody>\n",
       "</table>\n",
       "<p>101501 rows × 6 columns</p>\n",
       "</div>"
      ],
      "text/plain": [
       "        prb_no_fraud  prb_fraud  predicted  misstate  fyear   gvkey\n",
       "0           0.858391   0.141609          0         0   1990    1009\n",
       "1           0.401314   0.598686          1         0   1990    1011\n",
       "2           0.985697   0.014303          0         0   1990    1017\n",
       "3           0.282871   0.717129          1         0   1990    1021\n",
       "4           0.984004   0.015996          0         0   1990    1028\n",
       "...              ...        ...        ...       ...    ...     ...\n",
       "101496      0.914820   0.085180          0         0   2006  277579\n",
       "101497      0.271147   0.728853          1         0   2006  277846\n",
       "101498      0.380409   0.619591          1         0   2006  278234\n",
       "101499      0.344683   0.655317          1         0   2006  278400\n",
       "101500      0.996719   0.003281          0         0   2006  279398\n",
       "\n",
       "[101501 rows x 6 columns]"
      ]
     },
     "execution_count": 305,
     "metadata": {},
     "output_type": "execute_result"
    }
   ],
   "source": [
    "proba_df"
   ]
  },
  {
   "cell_type": "code",
   "execution_count": 257,
   "metadata": {},
   "outputs": [
    {
     "data": {
      "text/html": [
       "<div>\n",
       "<style scoped>\n",
       "    .dataframe tbody tr th:only-of-type {\n",
       "        vertical-align: middle;\n",
       "    }\n",
       "\n",
       "    .dataframe tbody tr th {\n",
       "        vertical-align: top;\n",
       "    }\n",
       "\n",
       "    .dataframe thead th {\n",
       "        text-align: right;\n",
       "    }\n",
       "</style>\n",
       "<table border=\"1\" class=\"dataframe\">\n",
       "  <thead>\n",
       "    <tr style=\"text-align: right;\">\n",
       "      <th></th>\n",
       "      <th>prb_no_fraud</th>\n",
       "      <th>prb_fraud</th>\n",
       "      <th>predicted</th>\n",
       "      <th>misstate</th>\n",
       "    </tr>\n",
       "  </thead>\n",
       "  <tbody>\n",
       "    <tr>\n",
       "      <td>62616</td>\n",
       "      <td>0.000010</td>\n",
       "      <td>0.999990</td>\n",
       "      <td>1</td>\n",
       "      <td>0</td>\n",
       "    </tr>\n",
       "    <tr>\n",
       "      <td>64537</td>\n",
       "      <td>0.000041</td>\n",
       "      <td>0.999959</td>\n",
       "      <td>1</td>\n",
       "      <td>0</td>\n",
       "    </tr>\n",
       "    <tr>\n",
       "      <td>83966</td>\n",
       "      <td>0.000053</td>\n",
       "      <td>0.999947</td>\n",
       "      <td>1</td>\n",
       "      <td>0</td>\n",
       "    </tr>\n",
       "    <tr>\n",
       "      <td>32832</td>\n",
       "      <td>0.000059</td>\n",
       "      <td>0.999941</td>\n",
       "      <td>1</td>\n",
       "      <td>0</td>\n",
       "    </tr>\n",
       "    <tr>\n",
       "      <td>99008</td>\n",
       "      <td>0.000064</td>\n",
       "      <td>0.999936</td>\n",
       "      <td>1</td>\n",
       "      <td>0</td>\n",
       "    </tr>\n",
       "  </tbody>\n",
       "</table>\n",
       "</div>"
      ],
      "text/plain": [
       "       prb_no_fraud  prb_fraud  predicted  misstate\n",
       "62616      0.000010   0.999990          1         0\n",
       "64537      0.000041   0.999959          1         0\n",
       "83966      0.000053   0.999947          1         0\n",
       "32832      0.000059   0.999941          1         0\n",
       "99008      0.000064   0.999936          1         0"
      ]
     },
     "execution_count": 257,
     "metadata": {},
     "output_type": "execute_result"
    }
   ],
   "source": [
    "proba_df[(proba_df['misstate'] == 0) & (proba_df['predicted'] == 1)].sort_values('prb_fraud', ascending=False).head(5)"
   ]
  },
  {
   "cell_type": "code",
   "execution_count": 258,
   "metadata": {},
   "outputs": [
    {
     "data": {
      "text/plain": [
       "10150.0"
      ]
     },
     "execution_count": 258,
     "metadata": {},
     "output_type": "execute_result"
    }
   ],
   "source": [
    "round(len(proba_df)*.1, ndigits=0)"
   ]
  },
  {
   "cell_type": "code",
   "execution_count": 259,
   "metadata": {},
   "outputs": [],
   "source": [
    "highest_one_p = proba_df.sort_values('prb_fraud', ascending=False).head(10150)"
   ]
  },
  {
   "cell_type": "code",
   "execution_count": 260,
   "metadata": {},
   "outputs": [
    {
     "data": {
      "text/plain": [
       "661"
      ]
     },
     "execution_count": 260,
     "metadata": {},
     "output_type": "execute_result"
    }
   ],
   "source": [
    "len(highest_one_p[(highest_one_p['predicted'] == 1) & (highest_one_p['misstate'] == 1)])"
   ]
  },
  {
   "cell_type": "code",
   "execution_count": 261,
   "metadata": {},
   "outputs": [
    {
     "data": {
      "text/plain": [
       "9489"
      ]
     },
     "execution_count": 261,
     "metadata": {},
     "output_type": "execute_result"
    }
   ],
   "source": [
    "len(highest_one_p[(highest_one_p['predicted'] == 1) & (highest_one_p['misstate'] == 0)])"
   ]
  },
  {
   "cell_type": "code",
   "execution_count": 272,
   "metadata": {},
   "outputs": [
    {
     "data": {
      "text/plain": [
       "0"
      ]
     },
     "execution_count": 272,
     "metadata": {},
     "output_type": "execute_result"
    }
   ],
   "source": [
    "len(highest_one_p[(highest_one_p['predicted'] == 0) & (highest_one_p['misstate'] == 1)])"
   ]
  },
  {
   "cell_type": "code",
   "execution_count": 273,
   "metadata": {},
   "outputs": [
    {
     "data": {
      "text/plain": [
       "796"
      ]
     },
     "execution_count": 273,
     "metadata": {},
     "output_type": "execute_result"
    }
   ],
   "source": [
    "proba_df.misstate.sum()"
   ]
  },
  {
   "cell_type": "code",
   "execution_count": null,
   "metadata": {},
   "outputs": [],
   "source": [
    "for year in years:\n",
    "    fraud_per_year.append((df[df['fyear'] == year].groupby('gvkey').agg({'misstate':'sum'}).sum()/len(df[df['fyear'] == year].groupby('gvkey').agg({'misstate':'sum'}))*100))"
   ]
  }
 ],
 "metadata": {
  "kernelspec": {
   "display_name": "Python 3",
   "language": "python",
   "name": "python3"
  },
  "language_info": {
   "codemirror_mode": {
    "name": "ipython",
    "version": 3
   },
   "file_extension": ".py",
   "mimetype": "text/x-python",
   "name": "python",
   "nbconvert_exporter": "python",
   "pygments_lexer": "ipython3",
   "version": "3.7.4"
  }
 },
 "nbformat": 4,
 "nbformat_minor": 4
}
